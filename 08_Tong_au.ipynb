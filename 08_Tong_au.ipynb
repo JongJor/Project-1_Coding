{
  "nbformat": 4,
  "nbformat_minor": 0,
  "metadata": {
    "colab": {
      "provenance": [],
      "authorship_tag": "ABX9TyMft9lfj1XIZmtEob3Kn+j/",
      "include_colab_link": true
    },
    "kernelspec": {
      "name": "python3",
      "display_name": "Python 3"
    },
    "language_info": {
      "name": "python"
    }
  },
  "cells": [
    {
      "cell_type": "markdown",
      "metadata": {
        "id": "view-in-github",
        "colab_type": "text"
      },
      "source": [
        "<a href=\"https://colab.research.google.com/github/JongJor/Project-1_Coding/blob/main/08_Tong_au.ipynb\" target=\"_parent\"><img src=\"https://colab.research.google.com/assets/colab-badge.svg\" alt=\"Open In Colab\"/></a>"
      ]
    },
    {
      "cell_type": "markdown",
      "source": [
        "# เลขที่ 8 จิตติพัฒน์ จงบริบูรณ์\n",
        "### No. 8 Jidtipat Jongboriboon\n",
        "\n",
        "20 พฤษภาคม 2567\n",
        "\n",
        "\n",
        "*   วันนี้ได้เรียนรู้เกี่ยวกับคำสั่ง print ใน Google Colab เป็นการใช้ Data Type แบบ string\n",
        "\n",
        "\n",
        "\n",
        "\n"
      ],
      "metadata": {
        "id": "yOLPVsZ8_zcH"
      }
    },
    {
      "cell_type": "code",
      "source": [
        "print(\"สวัสดีวันจันทร์ ตองอูครับ:)\")"
      ],
      "metadata": {
        "id": "UGd5Ycxqclmh",
        "colab": {
          "base_uri": "https://localhost:8080/"
        },
        "outputId": "adf5a586-267e-4861-b5b6-c38b503dbd66"
      },
      "execution_count": null,
      "outputs": [
        {
          "output_type": "stream",
          "name": "stdout",
          "text": [
            "สวัสดีวันจันทร์ ตองอูครับ:)\n"
          ]
        }
      ]
    },
    {
      "cell_type": "code",
      "source": [
        "print(\"สวัสดีวันจันทร์\")"
      ],
      "metadata": {
        "colab": {
          "base_uri": "https://localhost:8080/"
        },
        "id": "Wv5Tat8GFbOw",
        "outputId": "2c19ce22-f9a8-46e9-c125-46c86409de20"
      },
      "execution_count": null,
      "outputs": [
        {
          "output_type": "stream",
          "name": "stdout",
          "text": [
            "สวัสดีวันจันทร์\n"
          ]
        }
      ]
    },
    {
      "cell_type": "markdown",
      "source": [
        "29 May 2024\n",
        "\n",
        "*   วันนี้ได้เรียนรู้เกี่ยวกับการตรวจสอบประเภทของโค้ดประเภทของโค้ด เช่น float(ทศนิยม) และ int(จำนวนเต็ม) และอื่นๆ รวมไปถึงเงื่อนไขของโค้ด\n",
        "\n",
        "\n",
        "\n"
      ],
      "metadata": {
        "id": "9s3EfujcaEqG"
      }
    },
    {
      "cell_type": "code",
      "source": [
        "a = 2\n",
        "b = 1.5\n",
        "c = \"M.4/4\"\n",
        "\n",
        "type(c)\n",
        "\n",
        "print(\"ตัวแปรที่ฉันคิด คือ V\")"
      ],
      "metadata": {
        "colab": {
          "base_uri": "https://localhost:8080/"
        },
        "id": "DlPrHmOLaOYm",
        "outputId": "cede15ee-3f04-4f9a-c31e-e87c7d19c640"
      },
      "execution_count": null,
      "outputs": [
        {
          "output_type": "stream",
          "name": "stdout",
          "text": [
            "ตัวแปรที่ฉันคิด คือ print\n"
          ]
        }
      ]
    },
    {
      "cell_type": "markdown",
      "source": [
        "5 June 2024\n",
        "วันนี้ไดเรียนรู้เหี่ยวกับการใช้ index ซึ่งสามารถใช้ในการกำหนด      ลำดับของตัวแปรนั้นๆ และสามารถนำไปใช้อย่างอื่นได้"
      ],
      "metadata": {
        "id": "jmNlBJmuXLsq"
      }
    },
    {
      "cell_type": "code",
      "source": [
        "string1 = \"pytron\"\n",
        "print(string1[0])"
      ],
      "metadata": {
        "colab": {
          "base_uri": "https://localhost:8080/"
        },
        "id": "sw7J8vU5ahaf",
        "outputId": "343d3fe6-460c-4f8d-c887-6be39e0e700d"
      },
      "execution_count": null,
      "outputs": [
        {
          "output_type": "stream",
          "name": "stdout",
          "text": [
            "p\n"
          ]
        }
      ]
    },
    {
      "cell_type": "markdown",
      "source": [
        "26 June 2024"
      ],
      "metadata": {
        "id": "N15w_V0puOB7"
      }
    },
    {
      "cell_type": "code",
      "source": [
        "side = int(input(\"ความยาวด้าน(ซม.) คือ\"))\n",
        "\n",
        "area = side * side\n",
        "\n",
        "print(\"พื้นที่สี่เหลี่ยม เท่ากับ \", area, \"ตร.ซม.\")"
      ],
      "metadata": {
        "colab": {
          "base_uri": "https://localhost:8080/"
        },
        "id": "KZqcxUXfy5fo",
        "outputId": "be78f56c-5a48-487a-c409-2d83dbcd04d3"
      },
      "execution_count": null,
      "outputs": [
        {
          "output_type": "stream",
          "name": "stdout",
          "text": [
            "ความยาวด้าน(ซม.) คือ100000000000000000000000000000000000000000000000000000000000000000000000000000000000000000000000000000000000000000000000000000000000000000000000000000000000000000000000000000000000000000000000\n",
            "พื้นที่สี่เหลี่ยม เท่ากับ  10000000000000000000000000000000000000000000000000000000000000000000000000000000000000000000000000000000000000000000000000000000000000000000000000000000000000000000000000000000000000000000000000000000000000000000000000000000000000000000000000000000000000000000000000000000000000000000000000000000000000000000000000000000000000000000000000000000000000000000000000000000000000000000000 ตร.ซม.\n"
          ]
        }
      ]
    },
    {
      "cell_type": "code",
      "source": [
        "name = input(\"Tong-Au\")\n",
        "print(name)"
      ],
      "metadata": {
        "id": "m_iM82IPvSHb",
        "colab": {
          "base_uri": "https://localhost:8080/"
        },
        "outputId": "55c60347-dfec-4096-a537-0b35b00adf6b"
      },
      "execution_count": null,
      "outputs": [
        {
          "output_type": "stream",
          "name": "stdout",
          "text": [
            "Tong-AuSong Tong Au\n",
            "Song Tong Au\n"
          ]
        }
      ]
    },
    {
      "cell_type": "markdown",
      "source": [
        "1 July 2024"
      ],
      "metadata": {
        "id": "CISByiDUPrAe"
      }
    },
    {
      "cell_type": "code",
      "source": [
        "width = int(input(\"ความกว้าง(ซม.) คือ\"))\n",
        "\n",
        "length = int(input(\"ความยาว(ซม.) คือ\"))\n",
        "\n",
        "area = width * length\n",
        "\n",
        "print(\"พื้นที่สี่เหลี่ยมผืนผ้า เท่ากับ \", area, \"ตร.ซม.\")"
      ],
      "metadata": {
        "colab": {
          "base_uri": "https://localhost:8080/"
        },
        "id": "ThPVdP0-P0wk",
        "outputId": "dd2c249d-5d87-49de-ba78-2129da883040"
      },
      "execution_count": null,
      "outputs": [
        {
          "output_type": "stream",
          "name": "stdout",
          "text": [
            "ความกว้าง(ซม.) คือ50\n",
            "ความยาว(ซม.) คือ50\n",
            "พื้นที่สี่เหลี่ยมผืนผ้า เท่ากับ  2500 ตร.ซม.\n"
          ]
        }
      ]
    },
    {
      "cell_type": "code",
      "source": [
        "s = int(input(\"ระยะทาง(เมตร) คือ\"))\n",
        "t = int(input(\"เวลา(วินาที) คือ\"))\n",
        "\n",
        "V = s / t\n",
        "\n",
        "print(\"อัตราเร็ว เท่ากับ \", [V], \"เมตร / วินาที\")"
      ],
      "metadata": {
        "colab": {
          "base_uri": "https://localhost:8080/"
        },
        "id": "hUe6VfPmSG5s",
        "outputId": "796d4d0e-44ed-4696-9063-5b6ab539c41a"
      },
      "execution_count": null,
      "outputs": [
        {
          "output_type": "stream",
          "name": "stdout",
          "text": [
            "ระยะทาง(เมตร) คือ100\n",
            "เวลา(วินาที) คือ50\n",
            "อัตราเร็ว เท่ากับ  [2.0] เมตร / วินาที\n"
          ]
        }
      ]
    },
    {
      "cell_type": "code",
      "source": [
        "print(\"คำนวณค่าดัชนีมวลกาย (BMI)\")\n",
        "\n",
        "print(\"By ไก่อร่อย\")\n",
        "\n",
        "name = input(\"กรุณากรอกชื่อ\")\n",
        "\n",
        "print(\"ยินดีที่ได้รู้จักครับ คุณ\",name)\n",
        "\n",
        "weight = float(input(\"นั้าหนัก(กิโลกรัม) คือ\"))\n",
        "\n",
        "height = float(input(\"ส่วนสูง(เมตร) คือ\"))\n",
        "\n",
        "BMI = weight / (height * height)\n",
        "\n",
        "print(\"ดัชนีมวลกาย เท่ากับ \", BMI)"
      ],
      "metadata": {
        "colab": {
          "base_uri": "https://localhost:8080/"
        },
        "id": "5fmOMVlMYhuE",
        "outputId": "2c9161ab-bfeb-40cf-9503-f2223641aa36"
      },
      "execution_count": null,
      "outputs": [
        {
          "output_type": "stream",
          "name": "stdout",
          "text": [
            "คำนวณค่าดัชนีมวลกาย (BMI)\n",
            "By ไก่อร่อย\n",
            "กรุณากรอกชื่อกิต\n",
            "ยินดีที่ได้รู้จักครับ คุณ กิต\n",
            "นั้าหนัก(กิโลกรัม) คือ60\n",
            "ส่วนสูง(เมตร) คือ1.7894516224918167431695\n",
            "ดัชนีมวลกาย เท่ากับ  18.737486232832428\n"
          ]
        }
      ]
    }
  ]
}